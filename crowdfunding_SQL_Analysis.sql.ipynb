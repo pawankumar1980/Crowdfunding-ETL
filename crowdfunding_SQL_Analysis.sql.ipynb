{
 "cells": [
  {
   "cell_type": "code",
   "execution_count": 1,
   "id": "c4daf946",
   "metadata": {},
   "outputs": [],
   "source": [
    "# Challenge Bonus queries.\n",
    "# 1. (2.5 pts)\n",
    "# Retrieve all the number of backer_counts in descending order for each `cf_id` for the \"live\" campaigns. "
   ]
  },
  {
   "cell_type": "code",
   "execution_count": 2,
   "id": "cba035d4",
   "metadata": {},
   "outputs": [],
   "source": [
    "# 2. (2.5 pts)j\n",
    "# Using the \"backers\" table confirm the results in the first query.\n",
    "\n"
   ]
  },
  {
   "cell_type": "code",
   "execution_count": 3,
   "id": "3243aded",
   "metadata": {},
   "outputs": [],
   "source": [
    "# 3. (5 pts)\n",
    "# Create a table that has the first and last name, and email address of each contact.\n",
    "# and the amount left to reach the goal for all \"live\" projects in descending order. "
   ]
  },
  {
   "cell_type": "code",
   "execution_count": null,
   "id": "7e05bf52",
   "metadata": {},
   "outputs": [],
   "source": [
    "# 4. (5 pts)\n",
    "# Create a table, \"email_backers_remaining_goal_amount\" that contains the email address of each backer in descending order, \n",
    "# and has the first and last name of each backer, the cf_id, company name, description, \n",
    "# end date of the campaign, and the remaining amount of the campaign goal as \"Left of Goal\". "
   ]
  }
 ],
 "metadata": {
  "kernelspec": {
   "display_name": "PythonData",
   "language": "python",
   "name": "pythondata"
  },
  "language_info": {
   "codemirror_mode": {
    "name": "ipython",
    "version": 3
   },
   "file_extension": ".py",
   "mimetype": "text/x-python",
   "name": "python",
   "nbconvert_exporter": "python",
   "pygments_lexer": "ipython3",
   "version": "3.9.12"
  }
 },
 "nbformat": 4,
 "nbformat_minor": 5
}
